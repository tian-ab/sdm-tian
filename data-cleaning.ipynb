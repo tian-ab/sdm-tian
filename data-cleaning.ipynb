{
 "cells": [
  {
   "cell_type": "code",
   "execution_count": 3,
   "metadata": {},
   "outputs": [],
   "source": [
    "import pandas as pd\n",
    "\n",
    "# Tugas Lab Mandiri\n",
    "\n",
    "# 1. Cek apakah data sudah bersih\n",
    "# Kriteria bersih: tidak ada null dan duplicate\n",
    "\n",
    "def clean_checker(df):\n",
    "    data = df\n",
    "    data_null = data.isnull().sum().sum()\n",
    "    duplicate_rows = data.duplicated()\n",
    "    data['is_duplicate'] = duplicate_rows\n",
    "    duplicate = 0\n",
    "\n",
    "    # Looping untuk cek apakah ada data duplicate\n",
    "    for index, row in data.iterrows():\n",
    "        if row['is_duplicate'] == True:\n",
    "            duplicate += 1\n",
    "    print(f\"Terdapat sejumlah {duplicate} data duplikat dan {data_null} data bernilai null\")\n",
    "\n",
    "\n",
    "    if data_null == 0 and duplicate == 0:\n",
    "        print(\"Data sudah bersih\")\n",
    "        return data.drop('is_duplicate', axis=1)\n",
    "    \n",
    "    else:\n",
    "        print(\"Data belum bersih\",\"\\n\", \"Apakah ingin membersihkahkan data?\")\n",
    "        choice = input(\"(Y/N): \")\n",
    "        match choice:\n",
    "            case \"Y\":\n",
    "                choice = True\n",
    "            case \"N\":\n",
    "                choice = False\n",
    "        if choice:\n",
    "            data_cleaned = data.drop_duplicates().dropna(how='any',axis=0)\n",
    "            print(\"Yes\")\n",
    "            return data_cleaned.drop('is_duplicate', axis=1)\n",
    "        else:\n",
    "            print(\"No\")\n",
    "            return data.drop('is_duplicate', axis=1)"
   ]
  }
 ],
 "metadata": {
  "kernelspec": {
   "display_name": "Python 3",
   "language": "python",
   "name": "python3"
  },
  "language_info": {
   "codemirror_mode": {
    "name": "ipython",
    "version": 3
   },
   "file_extension": ".py",
   "mimetype": "text/x-python",
   "name": "python",
   "nbconvert_exporter": "python",
   "pygments_lexer": "ipython3",
   "version": "3.11.8"
  }
 },
 "nbformat": 4,
 "nbformat_minor": 2
}
